{
 "cells": [
  {
   "cell_type": "code",
   "execution_count": null,
   "metadata": {},
   "outputs": [],
   "source": [
    "secret = 8\n",
    "guess = 4\n",
    "\n",
    "if guess == secret:\n",
    "    print(\"just right\")\n",
    "else:\n",
    "    print(\"too low\")\n",
    "\n",
    "elif guess >= secret:\n",
    "    print(\"too high\")\n"
   ]
  }
 ],
 "metadata": {
  "kernelspec": {
   "display_name": "Python 3",
   "language": "python",
   "name": "python3"
  },
  "language_info": {
   "name": "python",
   "version": "3.12.3"
  }
 },
 "nbformat": 4,
 "nbformat_minor": 2
}
